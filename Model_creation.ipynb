{
 "cells": [
  {
   "cell_type": "code",
   "execution_count": 1,
   "metadata": {},
   "outputs": [],
   "source": [
    "from sklearn.datasets import load_diabetes\n",
    "from sklearn.linear_model import LinearRegression\n",
    "from sklearn.model_selection import train_test_split"
   ]
  },
  {
   "cell_type": "code",
   "execution_count": 2,
   "metadata": {},
   "outputs": [],
   "source": [
    "#pip install pickle"
   ]
  },
  {
   "cell_type": "code",
   "execution_count": 3,
   "metadata": {},
   "outputs": [],
   "source": [
    "#pip install sklearn"
   ]
  },
  {
   "cell_type": "code",
   "execution_count": 4,
   "metadata": {},
   "outputs": [],
   "source": [
    "Iris_data = load_diabetes()"
   ]
  },
  {
   "cell_type": "code",
   "execution_count": 5,
   "metadata": {},
   "outputs": [
    {
     "data": {
      "text/plain": [
       "{'data': array([[ 0.03807591,  0.05068012,  0.06169621, ..., -0.00259226,\n",
       "          0.01990842, -0.01764613],\n",
       "        [-0.00188202, -0.04464164, -0.05147406, ..., -0.03949338,\n",
       "         -0.06832974, -0.09220405],\n",
       "        [ 0.08529891,  0.05068012,  0.04445121, ..., -0.00259226,\n",
       "          0.00286377, -0.02593034],\n",
       "        ...,\n",
       "        [ 0.04170844,  0.05068012, -0.01590626, ..., -0.01107952,\n",
       "         -0.04687948,  0.01549073],\n",
       "        [-0.04547248, -0.04464164,  0.03906215, ...,  0.02655962,\n",
       "          0.04452837, -0.02593034],\n",
       "        [-0.04547248, -0.04464164, -0.0730303 , ..., -0.03949338,\n",
       "         -0.00421986,  0.00306441]]),\n",
       " 'target': array([151.,  75., 141., 206., 135.,  97., 138.,  63., 110., 310., 101.,\n",
       "         69., 179., 185., 118., 171., 166., 144.,  97., 168.,  68.,  49.,\n",
       "         68., 245., 184., 202., 137.,  85., 131., 283., 129.,  59., 341.,\n",
       "         87.,  65., 102., 265., 276., 252.,  90., 100.,  55.,  61.,  92.,\n",
       "        259.,  53., 190., 142.,  75., 142., 155., 225.,  59., 104., 182.,\n",
       "        128.,  52.,  37., 170., 170.,  61., 144.,  52., 128.,  71., 163.,\n",
       "        150.,  97., 160., 178.,  48., 270., 202., 111.,  85.,  42., 170.,\n",
       "        200., 252., 113., 143.,  51.,  52., 210.,  65., 141.,  55., 134.,\n",
       "         42., 111.,  98., 164.,  48.,  96.,  90., 162., 150., 279.,  92.,\n",
       "         83., 128., 102., 302., 198.,  95.,  53., 134., 144., 232.,  81.,\n",
       "        104.,  59., 246., 297., 258., 229., 275., 281., 179., 200., 200.,\n",
       "        173., 180.,  84., 121., 161.,  99., 109., 115., 268., 274., 158.,\n",
       "        107.,  83., 103., 272.,  85., 280., 336., 281., 118., 317., 235.,\n",
       "         60., 174., 259., 178., 128.,  96., 126., 288.,  88., 292.,  71.,\n",
       "        197., 186.,  25.,  84.,  96., 195.,  53., 217., 172., 131., 214.,\n",
       "         59.,  70., 220., 268., 152.,  47.,  74., 295., 101., 151., 127.,\n",
       "        237., 225.,  81., 151., 107.,  64., 138., 185., 265., 101., 137.,\n",
       "        143., 141.,  79., 292., 178.,  91., 116.,  86., 122.,  72., 129.,\n",
       "        142.,  90., 158.,  39., 196., 222., 277.,  99., 196., 202., 155.,\n",
       "         77., 191.,  70.,  73.,  49.,  65., 263., 248., 296., 214., 185.,\n",
       "         78.,  93., 252., 150.,  77., 208.,  77., 108., 160.,  53., 220.,\n",
       "        154., 259.,  90., 246., 124.,  67.,  72., 257., 262., 275., 177.,\n",
       "         71.,  47., 187., 125.,  78.,  51., 258., 215., 303., 243.,  91.,\n",
       "        150., 310., 153., 346.,  63.,  89.,  50.,  39., 103., 308., 116.,\n",
       "        145.,  74.,  45., 115., 264.,  87., 202., 127., 182., 241.,  66.,\n",
       "         94., 283.,  64., 102., 200., 265.,  94., 230., 181., 156., 233.,\n",
       "         60., 219.,  80.,  68., 332., 248.,  84., 200.,  55.,  85.,  89.,\n",
       "         31., 129.,  83., 275.,  65., 198., 236., 253., 124.,  44., 172.,\n",
       "        114., 142., 109., 180., 144., 163., 147.,  97., 220., 190., 109.,\n",
       "        191., 122., 230., 242., 248., 249., 192., 131., 237.,  78., 135.,\n",
       "        244., 199., 270., 164.,  72.,  96., 306.,  91., 214.,  95., 216.,\n",
       "        263., 178., 113., 200., 139., 139.,  88., 148.,  88., 243.,  71.,\n",
       "         77., 109., 272.,  60.,  54., 221.,  90., 311., 281., 182., 321.,\n",
       "         58., 262., 206., 233., 242., 123., 167.,  63., 197.,  71., 168.,\n",
       "        140., 217., 121., 235., 245.,  40.,  52., 104., 132.,  88.,  69.,\n",
       "        219.,  72., 201., 110.,  51., 277.,  63., 118.,  69., 273., 258.,\n",
       "         43., 198., 242., 232., 175.,  93., 168., 275., 293., 281.,  72.,\n",
       "        140., 189., 181., 209., 136., 261., 113., 131., 174., 257.,  55.,\n",
       "         84.,  42., 146., 212., 233.,  91., 111., 152., 120.,  67., 310.,\n",
       "         94., 183.,  66., 173.,  72.,  49.,  64.,  48., 178., 104., 132.,\n",
       "        220.,  57.]),\n",
       " 'frame': None,\n",
       " 'DESCR': '.. _diabetes_dataset:\\n\\nDiabetes dataset\\n----------------\\n\\nTen baseline variables, age, sex, body mass index, average blood\\npressure, and six blood serum measurements were obtained for each of n =\\n442 diabetes patients, as well as the response of interest, a\\nquantitative measure of disease progression one year after baseline.\\n\\n**Data Set Characteristics:**\\n\\n  :Number of Instances: 442\\n\\n  :Number of Attributes: First 10 columns are numeric predictive values\\n\\n  :Target: Column 11 is a quantitative measure of disease progression one year after baseline\\n\\n  :Attribute Information:\\n      - age     age in years\\n      - sex\\n      - bmi     body mass index\\n      - bp      average blood pressure\\n      - s1      tc, total serum cholesterol\\n      - s2      ldl, low-density lipoproteins\\n      - s3      hdl, high-density lipoproteins\\n      - s4      tch, total cholesterol / HDL\\n      - s5      ltg, possibly log of serum triglycerides level\\n      - s6      glu, blood sugar level\\n\\nNote: Each of these 10 feature variables have been mean centered and scaled by the standard deviation times `n_samples` (i.e. the sum of squares of each column totals 1).\\n\\nSource URL:\\nhttps://www4.stat.ncsu.edu/~boos/var.select/diabetes.html\\n\\nFor more information see:\\nBradley Efron, Trevor Hastie, Iain Johnstone and Robert Tibshirani (2004) \"Least Angle Regression,\" Annals of Statistics (with discussion), 407-499.\\n(https://web.stanford.edu/~hastie/Papers/LARS/LeastAngle_2002.pdf)',\n",
       " 'feature_names': ['age',\n",
       "  'sex',\n",
       "  'bmi',\n",
       "  'bp',\n",
       "  's1',\n",
       "  's2',\n",
       "  's3',\n",
       "  's4',\n",
       "  's5',\n",
       "  's6'],\n",
       " 'data_filename': 'diabetes_data.csv.gz',\n",
       " 'target_filename': 'diabetes_target.csv.gz',\n",
       " 'data_module': 'sklearn.datasets.data'}"
      ]
     },
     "execution_count": 5,
     "metadata": {},
     "output_type": "execute_result"
    }
   ],
   "source": [
    "Iris_data"
   ]
  },
  {
   "cell_type": "code",
   "execution_count": 6,
   "metadata": {
    "scrolled": true
   },
   "outputs": [
    {
     "data": {
      "text/plain": [
       "array([[ 0.03807591,  0.05068012,  0.06169621, ..., -0.00259226,\n",
       "         0.01990842, -0.01764613],\n",
       "       [-0.00188202, -0.04464164, -0.05147406, ..., -0.03949338,\n",
       "        -0.06832974, -0.09220405],\n",
       "       [ 0.08529891,  0.05068012,  0.04445121, ..., -0.00259226,\n",
       "         0.00286377, -0.02593034],\n",
       "       ...,\n",
       "       [ 0.04170844,  0.05068012, -0.01590626, ..., -0.01107952,\n",
       "        -0.04687948,  0.01549073],\n",
       "       [-0.04547248, -0.04464164,  0.03906215, ...,  0.02655962,\n",
       "         0.04452837, -0.02593034],\n",
       "       [-0.04547248, -0.04464164, -0.0730303 , ..., -0.03949338,\n",
       "        -0.00421986,  0.00306441]])"
      ]
     },
     "execution_count": 6,
     "metadata": {},
     "output_type": "execute_result"
    }
   ],
   "source": [
    "Iris_data.data"
   ]
  },
  {
   "cell_type": "code",
   "execution_count": 7,
   "metadata": {
    "scrolled": true
   },
   "outputs": [
    {
     "data": {
      "text/plain": [
       "array([151.,  75., 141., 206., 135.,  97., 138.,  63., 110., 310., 101.,\n",
       "        69., 179., 185., 118., 171., 166., 144.,  97., 168.,  68.,  49.,\n",
       "        68., 245., 184., 202., 137.,  85., 131., 283., 129.,  59., 341.,\n",
       "        87.,  65., 102., 265., 276., 252.,  90., 100.,  55.,  61.,  92.,\n",
       "       259.,  53., 190., 142.,  75., 142., 155., 225.,  59., 104., 182.,\n",
       "       128.,  52.,  37., 170., 170.,  61., 144.,  52., 128.,  71., 163.,\n",
       "       150.,  97., 160., 178.,  48., 270., 202., 111.,  85.,  42., 170.,\n",
       "       200., 252., 113., 143.,  51.,  52., 210.,  65., 141.,  55., 134.,\n",
       "        42., 111.,  98., 164.,  48.,  96.,  90., 162., 150., 279.,  92.,\n",
       "        83., 128., 102., 302., 198.,  95.,  53., 134., 144., 232.,  81.,\n",
       "       104.,  59., 246., 297., 258., 229., 275., 281., 179., 200., 200.,\n",
       "       173., 180.,  84., 121., 161.,  99., 109., 115., 268., 274., 158.,\n",
       "       107.,  83., 103., 272.,  85., 280., 336., 281., 118., 317., 235.,\n",
       "        60., 174., 259., 178., 128.,  96., 126., 288.,  88., 292.,  71.,\n",
       "       197., 186.,  25.,  84.,  96., 195.,  53., 217., 172., 131., 214.,\n",
       "        59.,  70., 220., 268., 152.,  47.,  74., 295., 101., 151., 127.,\n",
       "       237., 225.,  81., 151., 107.,  64., 138., 185., 265., 101., 137.,\n",
       "       143., 141.,  79., 292., 178.,  91., 116.,  86., 122.,  72., 129.,\n",
       "       142.,  90., 158.,  39., 196., 222., 277.,  99., 196., 202., 155.,\n",
       "        77., 191.,  70.,  73.,  49.,  65., 263., 248., 296., 214., 185.,\n",
       "        78.,  93., 252., 150.,  77., 208.,  77., 108., 160.,  53., 220.,\n",
       "       154., 259.,  90., 246., 124.,  67.,  72., 257., 262., 275., 177.,\n",
       "        71.,  47., 187., 125.,  78.,  51., 258., 215., 303., 243.,  91.,\n",
       "       150., 310., 153., 346.,  63.,  89.,  50.,  39., 103., 308., 116.,\n",
       "       145.,  74.,  45., 115., 264.,  87., 202., 127., 182., 241.,  66.,\n",
       "        94., 283.,  64., 102., 200., 265.,  94., 230., 181., 156., 233.,\n",
       "        60., 219.,  80.,  68., 332., 248.,  84., 200.,  55.,  85.,  89.,\n",
       "        31., 129.,  83., 275.,  65., 198., 236., 253., 124.,  44., 172.,\n",
       "       114., 142., 109., 180., 144., 163., 147.,  97., 220., 190., 109.,\n",
       "       191., 122., 230., 242., 248., 249., 192., 131., 237.,  78., 135.,\n",
       "       244., 199., 270., 164.,  72.,  96., 306.,  91., 214.,  95., 216.,\n",
       "       263., 178., 113., 200., 139., 139.,  88., 148.,  88., 243.,  71.,\n",
       "        77., 109., 272.,  60.,  54., 221.,  90., 311., 281., 182., 321.,\n",
       "        58., 262., 206., 233., 242., 123., 167.,  63., 197.,  71., 168.,\n",
       "       140., 217., 121., 235., 245.,  40.,  52., 104., 132.,  88.,  69.,\n",
       "       219.,  72., 201., 110.,  51., 277.,  63., 118.,  69., 273., 258.,\n",
       "        43., 198., 242., 232., 175.,  93., 168., 275., 293., 281.,  72.,\n",
       "       140., 189., 181., 209., 136., 261., 113., 131., 174., 257.,  55.,\n",
       "        84.,  42., 146., 212., 233.,  91., 111., 152., 120.,  67., 310.,\n",
       "        94., 183.,  66., 173.,  72.,  49.,  64.,  48., 178., 104., 132.,\n",
       "       220.,  57.])"
      ]
     },
     "execution_count": 7,
     "metadata": {},
     "output_type": "execute_result"
    }
   ],
   "source": [
    "Iris_data.target"
   ]
  },
  {
   "cell_type": "code",
   "execution_count": 8,
   "metadata": {},
   "outputs": [
    {
     "data": {
      "text/plain": [
       "(442, 10)"
      ]
     },
     "execution_count": 8,
     "metadata": {},
     "output_type": "execute_result"
    }
   ],
   "source": [
    "Iris_data.data.shape"
   ]
  },
  {
   "cell_type": "code",
   "execution_count": 9,
   "metadata": {},
   "outputs": [
    {
     "data": {
      "text/plain": [
       "(442,)"
      ]
     },
     "execution_count": 9,
     "metadata": {},
     "output_type": "execute_result"
    }
   ],
   "source": [
    "Iris_data.target.shape"
   ]
  },
  {
   "cell_type": "code",
   "execution_count": 10,
   "metadata": {},
   "outputs": [],
   "source": [
    "X_train, X_test, y_train, y_test = train_test_split(Iris_data.data, Iris_data.target, test_size = 0.3, random_state = 2 )"
   ]
  },
  {
   "cell_type": "code",
   "execution_count": 11,
   "metadata": {},
   "outputs": [],
   "source": [
    "LR_model = LinearRegression()"
   ]
  },
  {
   "cell_type": "code",
   "execution_count": 12,
   "metadata": {},
   "outputs": [],
   "source": [
    "a = LR_model.fit(X_train,y_train)"
   ]
  },
  {
   "cell_type": "code",
   "execution_count": 13,
   "metadata": {},
   "outputs": [
    {
     "data": {
      "text/plain": [
       "array([153.24537424, 204.26239453, 125.21081597, 108.22025298,\n",
       "       256.03179654, 253.23323854, 117.42180956, 120.55273333,\n",
       "        95.78750885, 190.06977442, 143.9656687 , 177.30193582,\n",
       "       180.06723313, 135.90604692, 287.68304903,  90.25399564,\n",
       "       212.08853302, 160.21767766, 134.88303419, 121.37057926,\n",
       "       138.5740191 , 168.29390353, 163.21666738, 176.29350013,\n",
       "       130.77477113, 226.7361735 , 195.60661642, 101.68383417,\n",
       "        48.13884964, 240.04946188, 246.46456316, 120.18462254,\n",
       "        71.53332653,  97.44511452, 202.48078577, 171.05376539,\n",
       "       159.89998068, 196.22813855, 114.71858185, 242.26807026,\n",
       "       134.78653302, 119.20962398, 193.32699504, 199.58892436,\n",
       "       172.21225895, 151.01368177, 164.62256367, 281.49743177,\n",
       "       104.14872837, 170.38407556, 254.31708693, 133.68638067,\n",
       "       154.97442421, 114.96217894, 192.56745582,  82.7500241 ,\n",
       "       131.99309163,  71.12058957, 161.07394217, 161.06656479,\n",
       "       169.80398831, 158.3972346 ,  96.40340744, 238.3279822 ,\n",
       "       150.46484185, 125.55100433, 159.95093   , 205.28588825,\n",
       "       119.35293801, 129.17639593, 215.8735864 , 199.82513892,\n",
       "       124.25504123, 158.22234547, 153.15627323, 116.00530712,\n",
       "        73.12466422,  71.2226165 , 172.17584117,  83.05034487,\n",
       "        81.99506992,  94.64184176, 179.92909231, 279.58837678,\n",
       "       209.80414234, 138.71089822, 287.32550245, 202.66857922,\n",
       "        94.89495332,  74.55140407, 153.01235986,  42.90220621,\n",
       "       185.82667308,  77.05211609, 144.20654629, 249.60404688,\n",
       "       150.43323287, 201.06792465, 153.89186922, 179.13246032,\n",
       "       114.38431383, 143.74614796,  99.45013277, 171.00090747,\n",
       "       159.25695809, 188.12598052, 120.11477683, 142.02219393,\n",
       "       184.37428495, 149.67945181, 234.95448306, 164.74947899,\n",
       "       231.1395338 , 168.27550268,  60.65855882, 109.31711784,\n",
       "        70.25002086, 159.63949505, 187.51136048,  76.13554606,\n",
       "       201.50087214, 254.57509617, 178.86213148, 203.93623616,\n",
       "       263.52654311, 198.36669512, 180.84040721,  56.73315886,\n",
       "       180.75502983,  50.73073786, 132.3695464 ,  97.82695508,\n",
       "       107.9780635 ])"
      ]
     },
     "execution_count": 13,
     "metadata": {},
     "output_type": "execute_result"
    }
   ],
   "source": [
    "a.predict(X_test)"
   ]
  },
  {
   "cell_type": "code",
   "execution_count": 14,
   "metadata": {},
   "outputs": [],
   "source": [
    "score = LR_model.score(X_test,y_test)"
   ]
  },
  {
   "cell_type": "code",
   "execution_count": 15,
   "metadata": {},
   "outputs": [
    {
     "name": "stdout",
     "output_type": "stream",
     "text": [
      "Test score is 50.13\n"
     ]
    }
   ],
   "source": [
    "print(f\"Test score is {round(score*100,2)}\")"
   ]
  },
  {
   "cell_type": "markdown",
   "metadata": {},
   "source": [
    "### Saving the model"
   ]
  },
  {
   "cell_type": "code",
   "execution_count": 16,
   "metadata": {},
   "outputs": [],
   "source": [
    "import pickle"
   ]
  },
  {
   "cell_type": "code",
   "execution_count": 17,
   "metadata": {},
   "outputs": [
    {
     "name": "stdout",
     "output_type": "stream",
     "text": [
      " Volume in drive C is OS\n",
      " Volume Serial Number is F49D-D3FA\n",
      "\n",
      " Directory of C:\\Users\\Adarsh\\Downloads\n",
      "\n",
      "12-04-2022  04:08 PM    <DIR>          .\n",
      "12-04-2022  04:08 PM    <DIR>          ..\n",
      "12-04-2022  03:28 PM    <DIR>          .ipynb_checkpoints\n",
      "15-03-2022  12:18 AM             4,736 .Rhistory\n",
      "26-11-2021  05:08 PM    <DIR>          __pycache__\n",
      "03-03-2022  09:58 AM         1,400,979 01. Marketing mix modelling.pptx\n",
      "23-03-2022  12:10 AM    <DIR>          0101\n",
      "02-12-2021  04:30 PM            36,826 02.rar\n",
      "14-08-2021  07:45 PM           173,308 02.xlsx\n",
      "30-11-2021  10:07 PM           279,634 02.zip\n",
      "02-12-2021  04:17 PM            39,230 02-ACF-PACF.xlsx\n",
      "02-03-2022  12:57 PM           194,853 02-Adarsh Shrivastava.ipynb\n",
      "16-12-2021  01:42 PM           101,888 07. Participants' Worksheet.xls\n",
      "10-09-2020  07:12 PM            39,184 1493799.pdf\n",
      "02-08-2021  11:22 PM            71,016 1493799_RL.pdf\n",
      "02-08-2021  11:22 PM            58,513 1493799_SC.pdf\n",
      "31-08-2021  09:13 PM         4,438,836 1630424482827.jpg\n",
      "01-11-2021  09:43 PM            19,606 1635783060732.jpg\n",
      "09-03-2021  03:09 PM           495,662 20171874 (1).pdf\n",
      "07-12-2021  06:50 PM             8,822 2019.csv\n",
      "11-11-2021  10:34 AM            34,288 Adarsh Shrivastava - Infosys Stock Data.xlsx\n",
      "11-11-2021  10:36 AM         1,414,242 Adarsh Shrivastava - superstore-subset.xlsx\n",
      "11-11-2021  10:36 AM         4,572,720 Adarsh Shrivastava - WHO-Covid-19-global-data.xlsx\n",
      "11-11-2021  10:35 AM           528,697 Adarsh Shrivastava - World Population Data.xlsx\n",
      "05-11-2021  09:25 PM            23,306 Adarsh Shrivastava.ipynb\n",
      "05-04-2022  08:35 PM           216,881 Adarsh Srivastava.pdf\n",
      "26-11-2021  05:10 PM                50 Adarsh_dec.txt\n",
      "26-11-2021  05:08 PM                50 Adarsh_enc.txt\n",
      "10-11-2021  12:14 AM           149,906 Adarsh_Resume.pdf\n",
      "13-10-2019  11:14 PM            69,298 adarsh_snooker.jpg\n",
      "26-11-2021  07:09 PM         7,206,268 Adarsh_subex.mp4\n",
      "29-01-2021  02:51 PM           320,987 Admissions-Procedure-PGP-2021-23-Batch.pdf\n",
      "21-02-2022  02:19 PM         1,722,637 AIF S1 3 Feb Class.pdf\n",
      "30-11-2021  02:27 PM             2,180 airline-passengers.csv\n",
      "27-01-2022  02:50 PM            31,152 AML - Support Vector Machines.ipynb\n",
      "21-12-2020  07:12 PM       479,396,152 Anaconda3-2020.11-Windows-x86_64.exe\n",
      "15-11-2021  02:41 PM           223,626 Analysis of variable using graph function.pdf\n",
      "05-02-2020  11:48 PM       753,903,288 android-studio-ide-191.6010548-windows.exe\n",
      "17-01-2022  11:40 PM            52,448 ANOVA(One-way & Two-way).ipynb\n",
      "27-09-2021  02:30 PM               526 Ashop.txt\n",
      "19-01-2022  03:14 PM           139,957 attrition.csv\n",
      "04-03-2022  11:26 AM         7,498,691 BDSN Mid Term.docx\n",
      "21-12-2021  02:25 PM            23,521 Blend Test - Data description.docx\n",
      "19-01-2022  02:23 PM            20,263 Building Functions.R\n",
      "28-10-2020  05:31 PM           482,813 CandidateHallTicket.pdf\n",
      "06-12-2021  11:27 PM           354,635 CAR DETAILS FROM CAR DEKHO.csv\n",
      "13-09-2021  02:24 PM            19,503 cars.csv\n",
      "02-01-2021  04:24 PM           495,662 CAT Scorecard.pdf\n",
      "15-11-2021  02:43 PM           158,521 Classification and Regression Tree.pdf\n",
      "02-03-2022  11:01 AM            75,582 classification.csv\n",
      "23-03-2022  12:03 AM            12,536 cloud.json\n",
      "15-11-2021  02:42 PM            95,596 Comparison between different ML models.pdf\n",
      "26-03-2022  04:35 PM            14,507 Copy of NFL data - variables explained (glossary of terms).docx\n",
      "26-03-2022  04:35 PM            24,190 Copy of NFL Resource - Analysis.xlsx\n",
      "27-02-2022  06:32 PM           304,049 Copy_of_Content_based_Recommender_system.ipynb\n",
      "04-03-2022  05:42 PM             4,754 D21002 - I2R - MID-TERM.R\n",
      "10-04-2022  09:15 PM           101,778 D21002 - pvalue.pdf\n",
      "12-08-2021  08:35 PM            28,162 D21002_ Student Undertaking - MOP.docx\n",
      "12-08-2021  08:42 PM            93,392 D21002_ Student Undertaking - MOP.pdf\n",
      "20-01-2022  01:00 PM         1,502,958 D21002_AdarshShrivastava_AML.pdf\n",
      "18-01-2022  05:02 PM         7,189,158 D21002_AdarshShrivastava_mkta.pdf\n",
      "08-11-2021  04:27 PM         6,408,587 D21002_AdarshShrivastava_MR.pdf\n",
      "12-03-2022  08:02 PM           594,422 D21002-NOSQL-Assignment.docx\n",
      "08-09-2021  12:22 AM            12,561 D21002-Tableau Assignment-3.docx\n",
      "05-04-2022  10:27 PM           104,241 D21016 - pvalue.pdf\n",
      "05-04-2022  10:27 PM         3,684,180 D21030 - pvalue.pdf\n",
      "28-01-2022  03:05 PM            71,459 daily_minimum_temperatures.xlsx\n",
      "11-09-2021  11:28 PM         1,598,371 Degree and UG Semester Marksheets-compressed.pdf\n",
      "15-09-2021  10:17 PM           216,632 Demo of PCA calculations.xlsx\n",
      "21-03-2022  07:19 PM         1,551,723 demo.ipynb\n",
      "07-12-2021  06:36 PM            34,682 diabetes_data_upload.csv\n",
      "01-11-2021  03:18 PM        96,663,072 dps-svba-jww (2021-10-29 at 07_10 GMT-7).mp4\n",
      "25-11-2019  03:54 PM           694,696 DropboxInstaller.exe\n",
      "23-01-2022  10:36 PM            20,676 drugsales.xlsx\n",
      "26-11-2021  05:08 PM             8,510 DSP.py\n",
      "20-12-2021  12:30 PM             2,787 ebillMonthly4.csv\n",
      "27-11-2019  06:18 PM        54,708,664 eclipse-inst-win64.exe\n",
      "02-12-2021  09:12 AM         6,477,032 FileZilla_3.11.0.2_win64-setup.exe\n",
      "02-12-2021  09:50 AM        11,792,608 FileZilla_3.56.2_win64-setup.exe\n",
      "20-12-2021  10:51 AM               237 Films.csv\n",
      "21-12-2021  02:24 PM           461,312 FINAL data - blind test.xls\n",
      "08-11-2021  01:33 PM               488 Fludata.csv\n",
      "25-01-2022  08:40 PM               224 fmo_midterm.R\n",
      "28-09-2020  11:09 PM            54,624 Form16 (1).pdf\n",
      "28-09-2020  11:10 PM            56,864 Form16 (2).pdf\n",
      "28-09-2020  11:08 PM            31,264 Form16.pdf\n",
      "05-10-2021  11:38 AM           191,803 framingham.csv\n",
      "23-08-2021  02:42 PM               261 Functions.py\n",
      "28-10-2021  09:52 AM         9,955,059 gini supervised.pdf\n",
      "28-10-2021  10:03 AM           434,261 gini supervised-compressed.pdf\n",
      "02-02-2021  11:04 PM        48,823,136 Git-2.30.0.2-64-bit.exe\n",
      "19-01-2022  01:25 PM               936 Graph.R\n",
      "25-03-2022  12:06 PM        55,696,045 Grey_5.zip\n",
      "07-12-2021  06:31 PM            35,921 heart.csv\n",
      "02-12-2021  09:38 AM     2,881,852,928 Hortonworks_Sandbox_2.1.ova\n",
      "10-11-2021  12:04 AM           246,047 Housing price prediction.pdf\n",
      "19-01-2022  12:01 PM             5,659 I2R - Module 1.R\n",
      "28-12-2021  06:12 PM             6,648 I2R - Module 2.R\n",
      "19-01-2022  01:39 PM             4,617 I2R - Module 3 (1).R\n",
      "19-01-2022  12:21 PM             2,996 I2R - Module 3.R\n",
      "28-12-2021  06:12 PM             5,300 I2R - Module 4.R\n",
      "05-01-2022  12:48 PM             8,628 I2R - Module 5 and Module 6.R\n",
      "19-01-2022  01:25 PM             8,358 I2R - Module 7.R\n",
      "09-01-2022  11:41 PM             5,948 I2R - practice.R\n",
      "08-02-2022  03:13 PM               948 Image compression using PCA.R\n",
      "11-02-2022  06:15 PM         8,006,439 Images.zip\n",
      "06-12-2021  11:28 PM            55,628 insurance.csv\n",
      "16-12-2021  05:10 PM         1,259,024 Internship Offer Letter- Adarsh Shrivastava.pdf\n",
      "23-12-2021  11:37 PM             3,858 iris.csv\n",
      "29-09-2020  11:15 PM         2,712,866 ITR1_2020.zip\n",
      "30-01-2022  11:02 PM             1,087 IV_raw.csv\n",
      "10-11-2021  07:16 PM            15,195 JD - Manager Level.docx\n",
      "09-11-2021  05:32 PM            14,639 JD- ADS Subex.docx\n",
      "16-11-2021  12:49 PM           105,209 JD Praxis 2021.pdf\n",
      "15-11-2021  06:08 PM           287,616 JD.jpg\n",
      "09-11-2021  05:32 PM           506,901 JD-Data Analyst_Analytics.pdf\n",
      "27-11-2019  05:58 PM       167,606,832 jdk-13.0.1_windows-x64_bin.exe\n",
      "11-11-2021  10:14 PM            59,799 Job Advert- Junior Data Scientist.docx\n",
      "23-12-2021  09:43 AM        85,675,840 jre-8u311-windows-x64.exe\n",
      "04-11-2021  11:38 AM           258,194 kc_house_test_data.csv\n",
      "04-11-2021  11:38 AM         1,136,255 kc_house_train_data.csv\n",
      "06-12-2021  11:44 PM    <DIR>          Labs\n",
      "27-09-2019  07:59 AM           333,442 Life Expectancy Data.csv\n",
      "08-11-2021  01:45 PM            12,214 Logistic regression.ipynb\n",
      "19-01-2022  02:18 PM             7,165 loop_function.R\n",
      "02-01-2022  10:28 PM            13,248 Machine Learning - Bagging, Random Forest and AdaBoost using Scikit Learn.ipynb\n",
      "03-10-2020  10:50 PM           507,561 machine-learning-ex1.zip\n",
      "12-10-2020  02:16 PM           275,472 machine-learning-ex2.zip\n",
      "16-10-2020  06:19 PM         7,916,824 machine-learning-ex3.zip\n",
      "19-10-2020  11:10 PM         7,978,878 machine-learning-ex4.zip\n",
      "28-10-2020  07:40 PM           230,331 machine-learning-ex5.zip\n",
      "01-11-2020  11:16 PM           947,130 machine-learning-ex6.zip\n",
      "07-11-2020  11:23 PM        11,614,281 machine-learning-ex7.zip\n",
      "15-11-2020  05:42 PM           841,887 machine-learning-ex8.zip\n",
      "19-01-2022  01:23 PM             1,415 Market Basket Analysis(lastFM).R\n",
      "03-03-2022  10:35 AM           760,863 Market Basket Model.pptx\n",
      "14-07-2019  10:06 PM         1,904,640 matheraan.jpg\n",
      "31-08-2021  03:14 PM         6,687,002 mbox.txt\n",
      "31-08-2021  03:14 PM            94,626 mbox-short.txt\n",
      "03-11-2021  11:38 PM           395,871 MML assignment.pptx\n",
      "12-04-2022  04:08 PM            59,672 Model_creation.ipynb\n",
      "03-03-2022  09:59 AM             6,977 module4.R\n",
      "02-03-2022  11:04 AM            47,006 MSE_demo.ipynb\n",
      "16-12-2021  10:51 PM           172,596 New Annexure A - DS.pdf\n",
      "16-12-2021  05:11 PM         1,291,840 New Annexure B.pdf\n",
      "11-04-2022  09:39 AM           665,918 NFL_Analytics_26_03_2022.ipynb\n",
      "26-03-2022  04:26 PM         1,319,864 NFL_Player_Stats_1999_2013.csv\n",
      "26-03-2022  04:35 PM         1,329,269 NFL_Player_Stats_1999_2013.xlsx\n",
      "16-12-2021  01:42 PM            35,840 Normalized Image Tables.xls\n",
      "12-03-2022  02:17 PM            14,997 NOSQL Assignment -DS - Jun 2021_term2_.docx\n",
      "04-02-2020  07:22 PM         4,014,360 npp.7.8.4.Installer.x64.exe\n",
      "24-02-2022  08:00 PM           133,195 OCP_data.tsv\n",
      "28-09-2020  04:25 PM       318,823,391 octave-5.2.0_1-w64-installer.exe\n",
      "08-10-2021  09:54 AM             8,983 Opportunity Management - Funnel Diagram.xlsx\n",
      "03-03-2022  09:59 AM           795,525 Other concepts - NPS CLV RFM.pptx\n",
      "06-08-2021  08:31 PM           151,609 passport_pic.jpg\n",
      "29-09-2021  09:02 AM       367,501,016 PBIDesktopSetup_x64.exe\n",
      "08-02-2022  03:13 PM               397 PCA for n less than p.R\n",
      "15-03-2022  12:18 AM    <DIR>          PCA Images\n",
      "15-03-2022  12:17 AM             4,035 PCA.R\n",
      "06-12-2021  09:11 AM           860,626 PCA_SVD.ipynb\n",
      "10-09-2020  07:13 PM             9,443 PF_1493799(20192020).pdf\n",
      "28-09-2020  11:04 PM             2,847 PFSettlementLetter1493799.pdf\n",
      "12-04-2022  04:08 PM               619 pickle_model.pkl\n",
      "14-03-2022  05:04 PM       161,313,648 Postman-win64-9.14.0-Setup.exe\n",
      "04-08-2021  09:30 AM            56,826 Praxis _ DS Orientation Aug 2021.xlsx\n",
      "11-04-2022  09:40 AM         1,650,796 Praxis Business School - Analytical Thinking - Web Analytics....pptx\n",
      "01-11-2021  11:58 AM           283,129 Presentation1.pptx\n",
      "26-11-2021  05:12 PM             6,009 Project Main.ipynb\n",
      "02-12-2021  09:14 AM         1,621,853 putty.zip\n",
      "09-02-2020  04:00 PM       291,385,040 pycharm-community-2019.3.3.exe\n",
      "24-02-2022  12:05 AM            20,739 PySpark_Setup.ipynb\n",
      "30-11-2019  06:22 PM        26,406,312 python-3.8.0.exe\n",
      "05-02-2020  04:09 PM        26,446,128 python-3.8.1.exe\n",
      "06-09-2020  02:59 PM         1,335,110 Quant Formula.pdf\n",
      "19-01-2022  03:14 PM             2,238 R Programming - Mid Term.R\n",
      "24-11-2021  11:37 AM        89,771,528 R-4.1.2-win.exe\n",
      "09-09-2020  02:24 PM         1,598,743 Registration_Guide_CAT_2020.pdf\n",
      "02-03-2022  11:01 AM           587,630 regression.csv\n",
      "15-11-2021  03:14 PM           215,671 Resume_Adarsh_Shrivastava_for_Adarsh_Shrivastava.pdf\n",
      "28-09-2020  11:05 PM           240,064 RetiralSettlements.pptx\n",
      "30-09-2021  11:06 AM               456 Revenue.csv\n",
      "03-03-2022  10:00 AM           492,943 RFM Analysis & Managerial Segmentation.pptx\n",
      "29-03-2022  01:11 PM               736 Ridge_lasso_regularization.R\n",
      "24-11-2021  11:39 AM       156,885,800 RStudio-2021.09.1-372.exe\n",
      "02-03-2022  11:09 AM           258,721 Sample for ET.ipynb\n",
      "31-08-2021  09:24 PM             8,929 sample.xlsx\n",
      "16-09-2021  01:28 PM    <DIR>          sample_extraction\n",
      "16-09-2021  01:27 PM        16,235,937 sample_extraction.zip\n",
      "30-11-2021  02:17 PM                98 seriesdat.csv\n",
      "30-11-2021  02:17 PM               207 seriesseasonal.csv\n",
      "20-01-2022  12:58 PM        12,563,988 sf.pdf\n",
      "05-02-2020  05:09 PM           537,226 Shapely-1.7.0-cp38-cp38-win32.whl\n",
      "28-10-2021  09:52 AM           774,289 split using gini.pdf\n",
      "09-08-2021  09:05 AM         5,946,768 SQL2019-SSEI-Dev.exe\n",
      "14-08-2021  01:57 PM    <DIR>          SQLServer2019-DEV-x64-ENU\n",
      "11-08-2021  11:06 PM     1,485,070,232 SQLServer2019-DEV-x64-ENU.box\n",
      "11-08-2021  11:08 PM           156,664 SQLServer2019-DEV-x64-ENU.exe\n",
      "09-08-2021  09:13 AM       673,674,032 SSMS-Setup-ENU.exe\n",
      "22-11-2021  08:48 PM             5,586 subex interview.ipynb\n",
      "29-09-2020  10:11 AM            77,053 Superuser_563637_Form 16 -  IT DEPT.zip\n",
      "28-10-2021  09:52 AM           440,967 supervised unsupervised.pdf\n",
      "16-12-2021  12:42 PM            25,088 Table to normalize.xls\n",
      "13-08-2021  11:18 AM       440,798,344 TableauPublicDesktop-64bit-2021-2-1.exe\n",
      "07-09-2021  07:28 PM       440,778,176 TableauPublicDesktop-64bit-2021-2-2.exe\n",
      "14-10-2021  02:10 PM       462,569,920 TableauPublicDesktop-64bit-2021-3-1.exe\n",
      "10-11-2021  07:40 PM       462,861,720 TableauPublicDesktop-64bit-2021-3-3.exe\n",
      "26-11-2021  05:08 PM         3,119,341 Team 3.pptx\n",
      "16-11-2021  08:22 AM       125,569,816 Teams_windows_x64.exe\n",
      "28-10-2021  02:40 PM            97,280 Telco.xls\n",
      "07-12-2021  06:37 PM           279,997 telecom_churn.csv\n",
      "11-02-2022  08:32 PM       377,778,189 test_clean_0_649.csv\n",
      "28-01-2022  04:24 PM           122,701 Test_data.csv\n",
      "17-02-2022  10:45 AM            12,727 TF Assignment topics sequence.xlsx\n"
     ]
    }
   ],
   "source": [
    "ls"
   ]
  },
  {
   "cell_type": "code",
   "execution_count": 18,
   "metadata": {},
   "outputs": [
    {
     "name": "stdout",
     "output_type": "stream",
     "text": [
      "25-01-2022  07:55 PM       113,936,537 train.csv\n",
      "28-01-2022  04:24 PM           489,054 Train_data.csv\n",
      "30-09-2019  05:39 PM         4,538,728 trial.jpg\n",
      "20-12-2021  01:57 PM            52,805 TwoWayANOVA - class exercise.xlsx\n",
      "30-09-2021  11:06 AM               292 Units.csv\n",
      "11-12-2021  05:30 PM            28,326 Untitled.ipynb\n",
      "13-09-2021  06:49 PM            10,756 Untitled1.ipynb\n",
      "24-12-2021  01:37 PM             1,923 Untitled2.ipynb\n",
      "12-04-2022  03:24 PM                72 Untitled3.ipynb\n",
      "01-11-2021  09:49 PM        11,293,952 videoplayback.mp4\n",
      "22-01-2022  02:58 PM         5,124,424 Vintage Profitability Cards Model_Segment_Core.xlsm\n",
      "23-03-2022  12:03 AM            24,948 vis_india_.json\n",
      "02-12-2021  09:15 AM        98,900,000 VMware-player-6.0.3-1895310.exe\n",
      "24-01-2021  06:58 PM         1,407,904 vs_buildtools__943301645.1611221426.exe\n",
      "10-01-2022  09:39 AM         1,464,392 vs_buildtools__ec3a5abdc70e461086b039df326c80ec.exe\n",
      "16-03-2022  03:08 PM        75,700,904 VSCodeUserSetup-x64-1.65.2.exe\n",
      "05-11-2021  11:39 PM         3,338,648 winrar-x64-602.exe\n",
      "02-12-2021  09:15 AM        11,845,032 WinSCP-5.19.4-Setup.exe\n",
      "23-12-2021  09:41 AM           196,608 Workings - Sheet 1.xls\n",
      "03-08-2021  05:56 PM        16,601,640 ZoomInstaller.exe\n",
      "             225 File(s) 11,078,928,035 bytes\n",
      "               9 Dir(s)  383,855,845,376 bytes free\n"
     ]
    }
   ],
   "source": [
    "with open(\"pickle_model.pkl\", \"wb\") as file :\n",
    "    pickle.dump(a, file)"
   ]
  },
  {
   "cell_type": "code",
   "execution_count": 19,
   "metadata": {},
   "outputs": [
    {
     "name": "stdout",
     "output_type": "stream",
     "text": [
      " Volume in drive C is OS\n",
      " Volume Serial Number is F49D-D3FA\n",
      "\n",
      " Directory of C:\\Users\\Adarsh\\Downloads\n",
      "\n",
      "12-04-2022  04:08 PM    <DIR>          .\n",
      "12-04-2022  04:08 PM    <DIR>          ..\n",
      "12-04-2022  03:28 PM    <DIR>          .ipynb_checkpoints\n",
      "15-03-2022  12:18 AM             4,736 .Rhistory\n",
      "26-11-2021  05:08 PM    <DIR>          __pycache__\n",
      "03-03-2022  09:58 AM         1,400,979 01. Marketing mix modelling.pptx\n",
      "23-03-2022  12:10 AM    <DIR>          0101\n",
      "02-12-2021  04:30 PM            36,826 02.rar\n",
      "14-08-2021  07:45 PM           173,308 02.xlsx\n",
      "30-11-2021  10:07 PM           279,634 02.zip\n",
      "02-12-2021  04:17 PM            39,230 02-ACF-PACF.xlsx\n",
      "02-03-2022  12:57 PM           194,853 02-Adarsh Shrivastava.ipynb\n",
      "16-12-2021  01:42 PM           101,888 07. Participants' Worksheet.xls\n",
      "10-09-2020  07:12 PM            39,184 1493799.pdf\n",
      "02-08-2021  11:22 PM            71,016 1493799_RL.pdf\n",
      "02-08-2021  11:22 PM            58,513 1493799_SC.pdf\n",
      "31-08-2021  09:13 PM         4,438,836 1630424482827.jpg\n",
      "01-11-2021  09:43 PM            19,606 1635783060732.jpg\n",
      "09-03-2021  03:09 PM           495,662 20171874 (1).pdf\n",
      "07-12-2021  06:50 PM             8,822 2019.csv\n",
      "11-11-2021  10:34 AM            34,288 Adarsh Shrivastava - Infosys Stock Data.xlsx\n",
      "11-11-2021  10:36 AM         1,414,242 Adarsh Shrivastava - superstore-subset.xlsx\n",
      "11-11-2021  10:36 AM         4,572,720 Adarsh Shrivastava - WHO-Covid-19-global-data.xlsx\n",
      "11-11-2021  10:35 AM           528,697 Adarsh Shrivastava - World Population Data.xlsx\n",
      "05-11-2021  09:25 PM            23,306 Adarsh Shrivastava.ipynb\n",
      "05-04-2022  08:35 PM           216,881 Adarsh Srivastava.pdf\n",
      "26-11-2021  05:10 PM                50 Adarsh_dec.txt\n",
      "26-11-2021  05:08 PM                50 Adarsh_enc.txt\n",
      "10-11-2021  12:14 AM           149,906 Adarsh_Resume.pdf\n",
      "13-10-2019  11:14 PM            69,298 adarsh_snooker.jpg\n",
      "26-11-2021  07:09 PM         7,206,268 Adarsh_subex.mp4\n",
      "29-01-2021  02:51 PM           320,987 Admissions-Procedure-PGP-2021-23-Batch.pdf\n",
      "21-02-2022  02:19 PM         1,722,637 AIF S1 3 Feb Class.pdf\n",
      "30-11-2021  02:27 PM             2,180 airline-passengers.csv\n",
      "27-01-2022  02:50 PM            31,152 AML - Support Vector Machines.ipynb\n",
      "21-12-2020  07:12 PM       479,396,152 Anaconda3-2020.11-Windows-x86_64.exe\n",
      "15-11-2021  02:41 PM           223,626 Analysis of variable using graph function.pdf\n",
      "05-02-2020  11:48 PM       753,903,288 android-studio-ide-191.6010548-windows.exe\n",
      "17-01-2022  11:40 PM            52,448 ANOVA(One-way & Two-way).ipynb\n",
      "27-09-2021  02:30 PM               526 Ashop.txt\n",
      "19-01-2022  03:14 PM           139,957 attrition.csv\n",
      "04-03-2022  11:26 AM         7,498,691 BDSN Mid Term.docx\n",
      "21-12-2021  02:25 PM            23,521 Blend Test - Data description.docx\n",
      "19-01-2022  02:23 PM            20,263 Building Functions.R\n",
      "28-10-2020  05:31 PM           482,813 CandidateHallTicket.pdf\n",
      "06-12-2021  11:27 PM           354,635 CAR DETAILS FROM CAR DEKHO.csv\n",
      "13-09-2021  02:24 PM            19,503 cars.csv\n",
      "02-01-2021  04:24 PM           495,662 CAT Scorecard.pdf\n",
      "15-11-2021  02:43 PM           158,521 Classification and Regression Tree.pdf\n",
      "02-03-2022  11:01 AM            75,582 classification.csv\n",
      "23-03-2022  12:03 AM            12,536 cloud.json\n",
      "15-11-2021  02:42 PM            95,596 Comparison between different ML models.pdf\n",
      "26-03-2022  04:35 PM            14,507 Copy of NFL data - variables explained (glossary of terms).docx\n",
      "26-03-2022  04:35 PM            24,190 Copy of NFL Resource - Analysis.xlsx\n",
      "27-02-2022  06:32 PM           304,049 Copy_of_Content_based_Recommender_system.ipynb\n",
      "04-03-2022  05:42 PM             4,754 D21002 - I2R - MID-TERM.R\n",
      "10-04-2022  09:15 PM           101,778 D21002 - pvalue.pdf\n",
      "12-08-2021  08:35 PM            28,162 D21002_ Student Undertaking - MOP.docx\n",
      "12-08-2021  08:42 PM            93,392 D21002_ Student Undertaking - MOP.pdf\n",
      "20-01-2022  01:00 PM         1,502,958 D21002_AdarshShrivastava_AML.pdf\n",
      "18-01-2022  05:02 PM         7,189,158 D21002_AdarshShrivastava_mkta.pdf\n",
      "08-11-2021  04:27 PM         6,408,587 D21002_AdarshShrivastava_MR.pdf\n",
      "12-03-2022  08:02 PM           594,422 D21002-NOSQL-Assignment.docx\n",
      "08-09-2021  12:22 AM            12,561 D21002-Tableau Assignment-3.docx\n",
      "05-04-2022  10:27 PM           104,241 D21016 - pvalue.pdf\n",
      "05-04-2022  10:27 PM         3,684,180 D21030 - pvalue.pdf\n",
      "28-01-2022  03:05 PM            71,459 daily_minimum_temperatures.xlsx\n",
      "11-09-2021  11:28 PM         1,598,371 Degree and UG Semester Marksheets-compressed.pdf\n",
      "15-09-2021  10:17 PM           216,632 Demo of PCA calculations.xlsx\n",
      "21-03-2022  07:19 PM         1,551,723 demo.ipynb\n",
      "07-12-2021  06:36 PM            34,682 diabetes_data_upload.csv\n",
      "01-11-2021  03:18 PM        96,663,072 dps-svba-jww (2021-10-29 at 07_10 GMT-7).mp4\n",
      "25-11-2019  03:54 PM           694,696 DropboxInstaller.exe\n",
      "23-01-2022  10:36 PM            20,676 drugsales.xlsx\n",
      "26-11-2021  05:08 PM             8,510 DSP.py\n",
      "20-12-2021  12:30 PM             2,787 ebillMonthly4.csv\n",
      "27-11-2019  06:18 PM        54,708,664 eclipse-inst-win64.exe\n",
      "02-12-2021  09:12 AM         6,477,032 FileZilla_3.11.0.2_win64-setup.exe\n",
      "02-12-2021  09:50 AM        11,792,608 FileZilla_3.56.2_win64-setup.exe\n",
      "20-12-2021  10:51 AM               237 Films.csv\n",
      "21-12-2021  02:24 PM           461,312 FINAL data - blind test.xls\n",
      "08-11-2021  01:33 PM               488 Fludata.csv\n",
      "25-01-2022  08:40 PM               224 fmo_midterm.R\n",
      "28-09-2020  11:09 PM            54,624 Form16 (1).pdf\n",
      "28-09-2020  11:10 PM            56,864 Form16 (2).pdf\n",
      "28-09-2020  11:08 PM            31,264 Form16.pdf\n",
      "05-10-2021  11:38 AM           191,803 framingham.csv\n",
      "23-08-2021  02:42 PM               261 Functions.py\n",
      "28-10-2021  09:52 AM         9,955,059 gini supervised.pdf\n",
      "28-10-2021  10:03 AM           434,261 gini supervised-compressed.pdf\n",
      "02-02-2021  11:04 PM        48,823,136 Git-2.30.0.2-64-bit.exe\n",
      "19-01-2022  01:25 PM               936 Graph.R\n",
      "25-03-2022  12:06 PM        55,696,045 Grey_5.zip\n",
      "07-12-2021  06:31 PM            35,921 heart.csv\n",
      "02-12-2021  09:38 AM     2,881,852,928 Hortonworks_Sandbox_2.1.ova\n",
      "10-11-2021  12:04 AM           246,047 Housing price prediction.pdf\n",
      "19-01-2022  12:01 PM             5,659 I2R - Module 1.R\n",
      "28-12-2021  06:12 PM             6,648 I2R - Module 2.R\n",
      "19-01-2022  01:39 PM             4,617 I2R - Module 3 (1).R\n",
      "19-01-2022  12:21 PM             2,996 I2R - Module 3.R\n",
      "28-12-2021  06:12 PM             5,300 I2R - Module 4.R\n",
      "05-01-2022  12:48 PM             8,628 I2R - Module 5 and Module 6.R\n",
      "19-01-2022  01:25 PM             8,358 I2R - Module 7.R\n",
      "09-01-2022  11:41 PM             5,948 I2R - practice.R\n",
      "08-02-2022  03:13 PM               948 Image compression using PCA.R\n",
      "11-02-2022  06:15 PM         8,006,439 Images.zip\n",
      "06-12-2021  11:28 PM            55,628 insurance.csv\n",
      "16-12-2021  05:10 PM         1,259,024 Internship Offer Letter- Adarsh Shrivastava.pdf\n",
      "23-12-2021  11:37 PM             3,858 iris.csv\n",
      "29-09-2020  11:15 PM         2,712,866 ITR1_2020.zip\n",
      "30-01-2022  11:02 PM             1,087 IV_raw.csv\n",
      "10-11-2021  07:16 PM            15,195 JD - Manager Level.docx\n",
      "09-11-2021  05:32 PM            14,639 JD- ADS Subex.docx\n",
      "16-11-2021  12:49 PM           105,209 JD Praxis 2021.pdf\n",
      "15-11-2021  06:08 PM           287,616 JD.jpg\n",
      "09-11-2021  05:32 PM           506,901 JD-Data Analyst_Analytics.pdf\n",
      "27-11-2019  05:58 PM       167,606,832 jdk-13.0.1_windows-x64_bin.exe\n",
      "11-11-2021  10:14 PM            59,799 Job Advert- Junior Data Scientist.docx\n",
      "23-12-2021  09:43 AM        85,675,840 jre-8u311-windows-x64.exe\n",
      "04-11-2021  11:38 AM           258,194 kc_house_test_data.csv\n",
      "04-11-2021  11:38 AM         1,136,255 kc_house_train_data.csv\n",
      "06-12-2021  11:44 PM    <DIR>          Labs\n",
      "27-09-2019  07:59 AM           333,442 Life Expectancy Data.csv\n",
      "08-11-2021  01:45 PM            12,214 Logistic regression.ipynb\n",
      "19-01-2022  02:18 PM             7,165 loop_function.R\n",
      "02-01-2022  10:28 PM            13,248 Machine Learning - Bagging, Random Forest and AdaBoost using Scikit Learn.ipynb\n",
      "03-10-2020  10:50 PM           507,561 machine-learning-ex1.zip\n",
      "12-10-2020  02:16 PM           275,472 machine-learning-ex2.zip\n",
      "16-10-2020  06:19 PM         7,916,824 machine-learning-ex3.zip\n",
      "19-10-2020  11:10 PM         7,978,878 machine-learning-ex4.zip\n",
      "28-10-2020  07:40 PM           230,331 machine-learning-ex5.zip\n",
      "01-11-2020  11:16 PM           947,130 machine-learning-ex6.zip\n",
      "07-11-2020  11:23 PM        11,614,281 machine-learning-ex7.zip\n",
      "15-11-2020  05:42 PM           841,887 machine-learning-ex8.zip\n",
      "19-01-2022  01:23 PM             1,415 Market Basket Analysis(lastFM).R\n",
      "03-03-2022  10:35 AM           760,863 Market Basket Model.pptx\n",
      "14-07-2019  10:06 PM         1,904,640 matheraan.jpg\n",
      "31-08-2021  03:14 PM         6,687,002 mbox.txt\n",
      "31-08-2021  03:14 PM            94,626 mbox-short.txt\n",
      "03-11-2021  11:38 PM           395,871 MML assignment.pptx\n",
      "12-04-2022  04:08 PM            59,672 Model_creation.ipynb\n",
      "03-03-2022  09:59 AM             6,977 module4.R\n",
      "02-03-2022  11:04 AM            47,006 MSE_demo.ipynb\n",
      "16-12-2021  10:51 PM           172,596 New Annexure A - DS.pdf\n",
      "16-12-2021  05:11 PM         1,291,840 New Annexure B.pdf\n",
      "11-04-2022  09:39 AM           665,918 NFL_Analytics_26_03_2022.ipynb\n",
      "26-03-2022  04:26 PM         1,319,864 NFL_Player_Stats_1999_2013.csv\n",
      "26-03-2022  04:35 PM         1,329,269 NFL_Player_Stats_1999_2013.xlsx\n",
      "16-12-2021  01:42 PM            35,840 Normalized Image Tables.xls\n",
      "12-03-2022  02:17 PM            14,997 NOSQL Assignment -DS - Jun 2021_term2_.docx\n",
      "04-02-2020  07:22 PM         4,014,360 npp.7.8.4.Installer.x64.exe\n",
      "24-02-2022  08:00 PM           133,195 OCP_data.tsv\n",
      "28-09-2020  04:25 PM       318,823,391 octave-5.2.0_1-w64-installer.exe\n",
      "08-10-2021  09:54 AM             8,983 Opportunity Management - Funnel Diagram.xlsx\n",
      "03-03-2022  09:59 AM           795,525 Other concepts - NPS CLV RFM.pptx\n",
      "06-08-2021  08:31 PM           151,609 passport_pic.jpg\n",
      "29-09-2021  09:02 AM       367,501,016 PBIDesktopSetup_x64.exe\n",
      "08-02-2022  03:13 PM               397 PCA for n less than p.R\n",
      "15-03-2022  12:18 AM    <DIR>          PCA Images\n",
      "15-03-2022  12:17 AM             4,035 PCA.R\n",
      "06-12-2021  09:11 AM           860,626 PCA_SVD.ipynb\n",
      "10-09-2020  07:13 PM             9,443 PF_1493799(20192020).pdf\n",
      "28-09-2020  11:04 PM             2,847 PFSettlementLetter1493799.pdf\n",
      "12-04-2022  04:09 PM               619 pickle_model.pkl\n",
      "14-03-2022  05:04 PM       161,313,648 Postman-win64-9.14.0-Setup.exe\n",
      "04-08-2021  09:30 AM            56,826 Praxis _ DS Orientation Aug 2021.xlsx\n",
      "11-04-2022  09:40 AM         1,650,796 Praxis Business School - Analytical Thinking - Web Analytics....pptx\n",
      "01-11-2021  11:58 AM           283,129 Presentation1.pptx\n",
      "26-11-2021  05:12 PM             6,009 Project Main.ipynb\n",
      "02-12-2021  09:14 AM         1,621,853 putty.zip\n",
      "09-02-2020  04:00 PM       291,385,040 pycharm-community-2019.3.3.exe\n",
      "24-02-2022  12:05 AM            20,739 PySpark_Setup.ipynb\n",
      "30-11-2019  06:22 PM        26,406,312 python-3.8.0.exe\n",
      "05-02-2020  04:09 PM        26,446,128 python-3.8.1.exe\n",
      "06-09-2020  02:59 PM         1,335,110 Quant Formula.pdf\n",
      "19-01-2022  03:14 PM             2,238 R Programming - Mid Term.R\n",
      "24-11-2021  11:37 AM        89,771,528 R-4.1.2-win.exe\n",
      "09-09-2020  02:24 PM         1,598,743 Registration_Guide_CAT_2020.pdf\n",
      "02-03-2022  11:01 AM           587,630 regression.csv\n",
      "15-11-2021  03:14 PM           215,671 Resume_Adarsh_Shrivastava_for_Adarsh_Shrivastava.pdf\n",
      "28-09-2020  11:05 PM           240,064 RetiralSettlements.pptx\n",
      "30-09-2021  11:06 AM               456 Revenue.csv\n",
      "03-03-2022  10:00 AM           492,943 RFM Analysis & Managerial Segmentation.pptx\n",
      "29-03-2022  01:11 PM               736 Ridge_lasso_regularization.R\n",
      "24-11-2021  11:39 AM       156,885,800 RStudio-2021.09.1-372.exe\n",
      "02-03-2022  11:09 AM           258,721 Sample for ET.ipynb\n",
      "31-08-2021  09:24 PM             8,929 sample.xlsx\n",
      "16-09-2021  01:28 PM    <DIR>          sample_extraction\n",
      "16-09-2021  01:27 PM        16,235,937 sample_extraction.zip\n",
      "30-11-2021  02:17 PM                98 seriesdat.csv\n",
      "30-11-2021  02:17 PM               207 seriesseasonal.csv\n",
      "20-01-2022  12:58 PM        12,563,988 sf.pdf\n",
      "05-02-2020  05:09 PM           537,226 Shapely-1.7.0-cp38-cp38-win32.whl\n",
      "28-10-2021  09:52 AM           774,289 split using gini.pdf\n",
      "09-08-2021  09:05 AM         5,946,768 SQL2019-SSEI-Dev.exe\n",
      "14-08-2021  01:57 PM    <DIR>          SQLServer2019-DEV-x64-ENU\n",
      "11-08-2021  11:06 PM     1,485,070,232 SQLServer2019-DEV-x64-ENU.box\n",
      "11-08-2021  11:08 PM           156,664 SQLServer2019-DEV-x64-ENU.exe\n",
      "09-08-2021  09:13 AM       673,674,032 SSMS-Setup-ENU.exe\n",
      "22-11-2021  08:48 PM             5,586 subex interview.ipynb\n",
      "29-09-2020  10:11 AM            77,053 Superuser_563637_Form 16 -  IT DEPT.zip\n",
      "28-10-2021  09:52 AM           440,967 supervised unsupervised.pdf\n",
      "16-12-2021  12:42 PM            25,088 Table to normalize.xls\n",
      "13-08-2021  11:18 AM       440,798,344 TableauPublicDesktop-64bit-2021-2-1.exe\n",
      "07-09-2021  07:28 PM       440,778,176 TableauPublicDesktop-64bit-2021-2-2.exe\n",
      "14-10-2021  02:10 PM       462,569,920 TableauPublicDesktop-64bit-2021-3-1.exe\n",
      "10-11-2021  07:40 PM       462,861,720 TableauPublicDesktop-64bit-2021-3-3.exe\n",
      "26-11-2021  05:08 PM         3,119,341 Team 3.pptx\n",
      "16-11-2021  08:22 AM       125,569,816 Teams_windows_x64.exe\n",
      "28-10-2021  02:40 PM            97,280 Telco.xls\n",
      "07-12-2021  06:37 PM           279,997 telecom_churn.csv\n",
      "11-02-2022  08:32 PM       377,778,189 test_clean_0_649.csv\n",
      "28-01-2022  04:24 PM           122,701 Test_data.csv\n",
      "17-02-2022  10:45 AM            12,727 TF Assignment topics sequence.xlsx\n",
      "25-01-2022  07:55 PM       113,936,537 train.csv\n",
      "28-01-2022  04:24 PM           489,054 Train_data.csv\n",
      "30-09-2019  05:39 PM         4,538,728 trial.jpg\n",
      "20-12-2021  01:57 PM            52,805 TwoWayANOVA - class exercise.xlsx\n",
      "30-09-2021  11:06 AM               292 Units.csv\n",
      "11-12-2021  05:30 PM            28,326 Untitled.ipynb\n",
      "13-09-2021  06:49 PM            10,756 Untitled1.ipynb\n",
      "24-12-2021  01:37 PM             1,923 Untitled2.ipynb\n",
      "12-04-2022  03:24 PM                72 Untitled3.ipynb\n",
      "01-11-2021  09:49 PM        11,293,952 videoplayback.mp4\n",
      "22-01-2022  02:58 PM         5,124,424 Vintage Profitability Cards Model_Segment_Core.xlsm\n",
      "23-03-2022  12:03 AM            24,948 vis_india_.json\n",
      "02-12-2021  09:15 AM        98,900,000 VMware-player-6.0.3-1895310.exe\n",
      "24-01-2021  06:58 PM         1,407,904 vs_buildtools__943301645.1611221426.exe\n",
      "10-01-2022  09:39 AM         1,464,392 vs_buildtools__ec3a5abdc70e461086b039df326c80ec.exe\n",
      "16-03-2022  03:08 PM        75,700,904 VSCodeUserSetup-x64-1.65.2.exe\n",
      "05-11-2021  11:39 PM         3,338,648 winrar-x64-602.exe\n",
      "02-12-2021  09:15 AM        11,845,032 WinSCP-5.19.4-Setup.exe\n"
     ]
    },
    {
     "name": "stdout",
     "output_type": "stream",
     "text": [
      "23-12-2021  09:41 AM           196,608 Workings - Sheet 1.xls\n",
      "03-08-2021  05:56 PM        16,601,640 ZoomInstaller.exe\n",
      "             225 File(s) 11,078,928,035 bytes\n",
      "               9 Dir(s)  383,855,845,376 bytes free\n"
     ]
    }
   ],
   "source": [
    "ls"
   ]
  },
  {
   "cell_type": "code",
   "execution_count": 20,
   "metadata": {},
   "outputs": [],
   "source": [
    "with open (\"pickle_model.pkl\", \"rb\") as f:\n",
    "    Pickled_model_file = pickle.load(f)\n",
    "    "
   ]
  },
  {
   "cell_type": "code",
   "execution_count": 21,
   "metadata": {},
   "outputs": [
    {
     "data": {
      "text/plain": [
       "50.13"
      ]
     },
     "execution_count": 21,
     "metadata": {},
     "output_type": "execute_result"
    }
   ],
   "source": [
    "round(Pickled_model_file.score(X_test, y_test)*100, 2)"
   ]
  },
  {
   "cell_type": "code",
   "execution_count": 23,
   "metadata": {},
   "outputs": [
    {
     "data": {
      "text/plain": [
       "array([1586.50069754])"
      ]
     },
     "execution_count": 23,
     "metadata": {},
     "output_type": "execute_result"
    }
   ],
   "source": [
    "Pickled_model_file.predict([[1,1,1,1,1,1,1,1,1,1]])"
   ]
  }
 ],
 "metadata": {
  "kernelspec": {
   "display_name": "Python 3",
   "language": "python",
   "name": "python3"
  },
  "language_info": {
   "codemirror_mode": {
    "name": "ipython",
    "version": 3
   },
   "file_extension": ".py",
   "mimetype": "text/x-python",
   "name": "python",
   "nbconvert_exporter": "python",
   "pygments_lexer": "ipython3",
   "version": "3.8.5"
  }
 },
 "nbformat": 4,
 "nbformat_minor": 5
}
